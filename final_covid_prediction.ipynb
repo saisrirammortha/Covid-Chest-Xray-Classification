{
  "nbformat": 4,
  "nbformat_minor": 0,
  "metadata": {
    "colab": {
      "name": "final_covid_prediction.ipynb",
      "provenance": []
    },
    "kernelspec": {
      "name": "python3",
      "display_name": "Python 3"
    }
  },
  "cells": [
    {
      "cell_type": "code",
      "metadata": {
        "id": "A0HdkSBmDLGu",
        "colab_type": "code",
        "colab": {
          "base_uri": "https://localhost:8080/",
          "height": 158
        },
        "outputId": "1ec43e2e-904a-4103-a16b-480df68ce4ef"
      },
      "source": [
        "!git clone https://github.com/ieee8023/covid-chestxray-dataset.git"
      ],
      "execution_count": 1,
      "outputs": [
        {
          "output_type": "stream",
          "text": [
            "Cloning into 'covid-chestxray-dataset'...\n",
            "remote: Enumerating objects: 125, done.\u001b[K\n",
            "remote: Counting objects:   0% (1/125)\u001b[K\rremote: Counting objects:   1% (2/125)\u001b[K\rremote: Counting objects:   2% (3/125)\u001b[K\rremote: Counting objects:   3% (4/125)\u001b[K\rremote: Counting objects:   4% (5/125)\u001b[K\rremote: Counting objects:   5% (7/125)\u001b[K\rremote: Counting objects:   6% (8/125)\u001b[K\rremote: Counting objects:   7% (9/125)\u001b[K\rremote: Counting objects:   8% (10/125)\u001b[K\rremote: Counting objects:   9% (12/125)\u001b[K\rremote: Counting objects:  10% (13/125)\u001b[K\rremote: Counting objects:  11% (14/125)\u001b[K\rremote: Counting objects:  12% (15/125)\u001b[K\rremote: Counting objects:  13% (17/125)\u001b[K\rremote: Counting objects:  14% (18/125)\u001b[K\rremote: Counting objects:  15% (19/125)\u001b[K\rremote: Counting objects:  16% (20/125)\u001b[K\rremote: Counting objects:  17% (22/125)\u001b[K\rremote: Counting objects:  18% (23/125)\u001b[K\rremote: Counting objects:  19% (24/125)\u001b[K\rremote: Counting objects:  20% (25/125)\u001b[K\rremote: Counting objects:  21% (27/125)\u001b[K\rremote: Counting objects:  22% (28/125)\u001b[K\rremote: Counting objects:  23% (29/125)\u001b[K\rremote: Counting objects:  24% (30/125)\u001b[K\rremote: Counting objects:  25% (32/125)\u001b[K\rremote: Counting objects:  26% (33/125)\u001b[K\rremote: Counting objects:  27% (34/125)\u001b[K\rremote: Counting objects:  28% (35/125)\u001b[K\rremote: Counting objects:  29% (37/125)\u001b[K\rremote: Counting objects:  30% (38/125)\u001b[K\rremote: Counting objects:  31% (39/125)\u001b[K\rremote: Counting objects:  32% (40/125)\u001b[K\rremote: Counting objects:  33% (42/125)\u001b[K\rremote: Counting objects:  34% (43/125)\u001b[K\rremote: Counting objects:  35% (44/125)\u001b[K\rremote: Counting objects:  36% (45/125)\u001b[K\rremote: Counting objects:  37% (47/125)\u001b[K\rremote: Counting objects:  38% (48/125)\u001b[K\rremote: Counting objects:  39% (49/125)\u001b[K\rremote: Counting objects:  40% (50/125)\u001b[K\rremote: Counting objects:  41% (52/125)\u001b[K\rremote: Counting objects:  42% (53/125)\u001b[K\rremote: Counting objects:  43% (54/125)\u001b[K\rremote: Counting objects:  44% (55/125)\u001b[K\rremote: Counting objects:  45% (57/125)\u001b[K\rremote: Counting objects:  46% (58/125)\u001b[K\rremote: Counting objects:  47% (59/125)\u001b[K\rremote: Counting objects:  48% (60/125)\u001b[K\rremote: Counting objects:  49% (62/125)\u001b[K\rremote: Counting objects:  50% (63/125)\u001b[K\rremote: Counting objects:  51% (64/125)\u001b[K\rremote: Counting objects:  52% (65/125)\u001b[K\rremote: Counting objects:  53% (67/125)\u001b[K\rremote: Counting objects:  54% (68/125)\u001b[K\rremote: Counting objects:  55% (69/125)\u001b[K\rremote: Counting objects:  56% (70/125)\u001b[K\rremote: Counting objects:  57% (72/125)\u001b[K\rremote: Counting objects:  58% (73/125)\u001b[K\rremote: Counting objects:  59% (74/125)\u001b[K\rremote: Counting objects:  60% (75/125)\u001b[K\rremote: Counting objects:  61% (77/125)\u001b[K\rremote: Counting objects:  62% (78/125)\u001b[K\rremote: Counting objects:  63% (79/125)\u001b[K\rremote: Counting objects:  64% (80/125)\u001b[K\rremote: Counting objects:  65% (82/125)\u001b[K\rremote: Counting objects:  66% (83/125)\u001b[K\rremote: Counting objects:  67% (84/125)\u001b[K\rremote: Counting objects:  68% (85/125)\u001b[K\rremote: Counting objects:  69% (87/125)\u001b[K\rremote: Counting objects:  70% (88/125)\u001b[K\rremote: Counting objects:  71% (89/125)\u001b[K\rremote: Counting objects:  72% (90/125)\u001b[K\rremote: Counting objects:  73% (92/125)\u001b[K\rremote: Counting objects:  74% (93/125)\u001b[K\rremote: Counting objects:  75% (94/125)\u001b[K\rremote: Counting objects:  76% (95/125)\u001b[K\rremote: Counting objects:  77% (97/125)\u001b[K\rremote: Counting objects:  78% (98/125)\u001b[K\rremote: Counting objects:  79% (99/125)\u001b[K\rremote: Counting objects:  80% (100/125)\u001b[K\rremote: Counting objects:  81% (102/125)\u001b[K\rremote: Counting objects:  82% (103/125)\u001b[K\rremote: Counting objects:  83% (104/125)\u001b[K\rremote: Counting objects:  84% (105/125)\u001b[K\rremote: Counting objects:  85% (107/125)\u001b[K\rremote: Counting objects:  86% (108/125)\u001b[K\rremote: Counting objects:  87% (109/125)\u001b[K\rremote: Counting objects:  88% (110/125)\u001b[K\rremote: Counting objects:  89% (112/125)\u001b[K\rremote: Counting objects:  90% (113/125)\u001b[K\rremote: Counting objects:  91% (114/125)\u001b[K\rremote: Counting objects:  92% (115/125)\u001b[K\rremote: Counting objects:  93% (117/125)\u001b[K\rremote: Counting objects:  94% (118/125)\u001b[K\rremote: Counting objects:  95% (119/125)\u001b[K\rremote: Counting objects:  96% (120/125)\u001b[K\rremote: Counting objects:  97% (122/125)\u001b[K\rremote: Counting objects:  98% (123/125)\u001b[K\rremote: Counting objects:  99% (124/125)\u001b[K\rremote: Counting objects: 100% (125/125)\u001b[K\rremote: Counting objects: 100% (125/125), done.\u001b[K\n",
            "remote: Compressing objects: 100% (70/70), done.\u001b[K\n",
            "remote: Total 1741 (delta 69), reused 84 (delta 55), pack-reused 1616\u001b[K\n",
            "Receiving objects: 100% (1741/1741), 221.08 MiB | 36.88 MiB/s, done.\n",
            "Resolving deltas: 100% (843/843), done.\n",
            "Checking out files: 100% (357/357), done.\n"
          ],
          "name": "stdout"
        }
      ]
    },
    {
      "cell_type": "code",
      "metadata": {
        "id": "9F09VUM3DXUd",
        "colab_type": "code",
        "colab": {}
      },
      "source": [
        "import torch\n",
        "import torchvision\n",
        "from PIL import Image\n",
        "import os\n",
        "import pandas as pd\n",
        "import numpy as np\n",
        "import matplotlib.pyplot as plt\n",
        "from torchvision import transforms\n",
        "from torch.utils.data.sampler import SubsetRandomSampler\n",
        "from torch.utils.data import Dataset, DataLoader\n",
        "from sklearn.model_selection import train_test_split\n",
        "from torch import nn,optim\n",
        "from sklearn.metrics import roc_auc_score\n",
        "from sklearn.metrics import confusion_matrix"
      ],
      "execution_count": 0,
      "outputs": []
    },
    {
      "cell_type": "code",
      "metadata": {
        "id": "Firp3hDLDe96",
        "colab_type": "code",
        "colab": {}
      },
      "source": [
        "model=torchvision.models.googlenet(pretrained=True)"
      ],
      "execution_count": 0,
      "outputs": []
    },
    {
      "cell_type": "code",
      "metadata": {
        "id": "WNf-luyqDmAV",
        "colab_type": "code",
        "colab": {}
      },
      "source": [
        "model.fc=nn.Sequential(nn.Linear(1024,1),\n",
        "                       nn.Sigmoid())"
      ],
      "execution_count": 0,
      "outputs": []
    },
    {
      "cell_type": "code",
      "metadata": {
        "id": "m6MhojKiDuT4",
        "colab_type": "code",
        "colab": {
          "base_uri": "https://localhost:8080/",
          "height": 34
        },
        "outputId": "31ee8ec9-63a8-4f1f-faed-077ea4103768"
      },
      "source": [
        "model.load_state_dict(torch.load('best_model.pt',map_location=torch.device('cpu')))"
      ],
      "execution_count": 22,
      "outputs": [
        {
          "output_type": "execute_result",
          "data": {
            "text/plain": [
              "<All keys matched successfully>"
            ]
          },
          "metadata": {
            "tags": []
          },
          "execution_count": 22
        }
      ]
    },
    {
      "cell_type": "markdown",
      "metadata": {
        "id": "6GE1WNoAQLpX",
        "colab_type": "text"
      },
      "source": [
        "For predicting a new image we need to pass the location or path of the image and model to the __predict__ function below"
      ]
    },
    {
      "cell_type": "code",
      "metadata": {
        "id": "oJTV8L3AEIgb",
        "colab_type": "code",
        "colab": {}
      },
      "source": [
        "def predict(image_dir,model,logits=False):\n",
        "  image = Image.open(image_dir).convert('RGB')\n",
        "  image = np.array(image.resize((256,256)))\n",
        "  image = image[:,:,0]\n",
        "  image = np.uint8(((np.array(image)/255).reshape(256,256,1))*255*255)\n",
        "  image = np.tile(image,3)\n",
        "  transform = transforms.Compose([transforms.ToPILImage(),\n",
        "                                  transforms.Resize((224,224)),\n",
        "                                  transforms.ToTensor(),\n",
        "                                  transforms.Normalize([0.485, 0.456, 0.406],[0.229, 0.224, 0.225])\n",
        "                                  ])\n",
        "  image=transform(image)\n",
        "  image=image.unsqueeze(0)\n",
        "  if torch.cuda.is_available():\n",
        "    model.cuda()\n",
        "    image=image.cuda()\n",
        "  with torch.no_grad():\n",
        "    output=model(image)\n",
        "  if logits==True:\n",
        "    return output.detach().cpu().view(-1).numpy()\n",
        "  else:\n",
        "    return torch.round(output).detach().cpu().view(-1).numpy()"
      ],
      "execution_count": 0,
      "outputs": []
    },
    {
      "cell_type": "code",
      "metadata": {
        "id": "vTSPrw25Jg0r",
        "colab_type": "code",
        "colab": {
          "base_uri": "https://localhost:8080/",
          "height": 34
        },
        "outputId": "51b4a5d4-79a1-464f-ee8b-056a2070ca22"
      },
      "source": [
        "image_path='/content/covid-chestxray-dataset/images/01E392EE-69F9-4E33-BFCE-E5C968654078.jpeg'\n",
        "print(predict(image_path,model))"
      ],
      "execution_count": 21,
      "outputs": [
        {
          "output_type": "stream",
          "text": [
            "[1.]\n"
          ],
          "name": "stdout"
        }
      ]
    },
    {
      "cell_type": "code",
      "metadata": {
        "id": "Ss9XUs13J4Tl",
        "colab_type": "code",
        "colab": {}
      },
      "source": [
        ""
      ],
      "execution_count": 0,
      "outputs": []
    }
  ]
}